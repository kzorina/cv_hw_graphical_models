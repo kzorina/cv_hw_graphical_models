{
 "cells": [
  {
   "cell_type": "markdown",
   "metadata": {},
   "source": [
    "The task will be to try the variational Bayesian Learning on a small test problem.\n",
    "\n",
    "• Measurements: x 2 R\n",
    "\n",
    "• Class y 2 {0, 1}\n",
    "\n",
    "• Model: p(y | x)=1/(1 + exp((wx + b))) – logistic model with 1D input\n",
    "\n",
    "• Parameters: theta = (w, b)"
   ]
  },
  {
   "cell_type": "code",
   "execution_count": 131,
   "metadata": {},
   "outputs": [],
   "source": [
    "import numpy as np\n",
    "from math import exp, log, pi\n",
    "from scipy.optimize import minimize\n",
    "import matplotlib.pyplot as plt"
   ]
  },
  {
   "cell_type": "code",
   "execution_count": 132,
   "metadata": {},
   "outputs": [],
   "source": [
    "def prediction(x, theta):\n",
    "    \"\"\" model posterior probability p(y=0 | x; theta) \"\"\"\n",
    "    w = theta[0]\n",
    "    b = theta[1]\n",
    "    return  np.array([1/(1 + exp(-(w*xi + b))) for xi in x])\n",
    "\n"
   ]
  },
  {
   "cell_type": "code",
   "execution_count": 133,
   "metadata": {},
   "outputs": [],
   "source": [
    "def log_likelihood(py, y):\n",
    "    \"\"\" log likelihood of a given prediction at ground truth y\"\"\"\n",
    "    r = np.log(py[y == 0]).sum()\n",
    "    r += np.log(1 - py[y == 1]).sum()\n",
    "    return r "
   ]
  },
  {
   "cell_type": "code",
   "execution_count": 134,
   "metadata": {},
   "outputs": [],
   "source": [
    "def error_rate(y_pred, y_true):\n",
    "    return round(np.sum(y_pred != y_true)/ len(y_pred) , 4)"
   ]
  },
  {
   "cell_type": "code",
   "execution_count": 135,
   "metadata": {},
   "outputs": [],
   "source": [
    "def prob_to_label(y_pred):\n",
    "    return [(yi < 0.5) for yi in y_pred]"
   ]
  },
  {
   "cell_type": "code",
   "execution_count": 136,
   "metadata": {},
   "outputs": [],
   "source": [
    "def create_dataset(N):\n",
    "    mean_0_class = -2\n",
    "    mean_1_class = 2\n",
    "    sigma_0_class = 1\n",
    "    sigma_1_class = 2\n",
    "\n",
    "    class_0 = np.random.normal(mean_0_class, sigma_0_class, int(N/2))\n",
    "    class_1 = np.random.normal(mean_1_class, sigma_1_class, N - int(N/2))\n",
    "\n",
    "    x = np.concatenate([class_0, class_1])\n",
    "    y = np.array([0]*int(N/2) + [1]*( N - int(N/2)))\n",
    "    \n",
    "    return x, y, class_0, class_1 \n",
    "    "
   ]
  },
  {
   "cell_type": "code",
   "execution_count": 137,
   "metadata": {},
   "outputs": [],
   "source": [
    "def optimize_theta(x, y):\n",
    "   \n",
    "    nll = lambda theta: -log_likelihood(prediction(x, theta), y)\n",
    "    theta0 = np.ones([2])\n",
    "    o = minimize(nll, theta0, method='Nelder-Mead') \n",
    "    \n",
    "    opt_theta = o.x\n",
    "    return opt_theta"
   ]
  },
  {
   "cell_type": "code",
   "execution_count": 138,
   "metadata": {},
   "outputs": [],
   "source": [
    "def optimize_eta(x, y):\n",
    "    w_prior_mu = 0\n",
    "    w_prior_var = 10**6\n",
    "    b_prior_mu = 0\n",
    "    b_prior_var = 10**8\n",
    "    x = np.array(x)\n",
    "    vb = lambda eta: -log_likelihood(expected_prediction(x, eta), y) +  \\\n",
    "                    kl_div(w_prior_mu, eta[0], w_prior_var, variance_parametrization(eta[2])) + \\\n",
    "                    kl_div(b_prior_mu, eta[1], b_prior_var, variance_parametrization(eta[3]))\n",
    "    eta0 = np.ones([4])\n",
    "    o = minimize(vb, eta0, method='Nelder-Mead') \n",
    "    \n",
    "    opt_eta = o.x\n",
    "    return opt_eta"
   ]
  },
  {
   "cell_type": "code",
   "execution_count": 139,
   "metadata": {},
   "outputs": [],
   "source": [
    "def variance_parametrization(z):\n",
    "    if z < 0:\n",
    "        return exp(z)\n",
    "    else:\n",
    "        return z + 1"
   ]
  },
  {
   "cell_type": "code",
   "execution_count": 140,
   "metadata": {},
   "outputs": [],
   "source": [
    "def expected_prediction(x: np.array, eta) -> np.array:\n",
    "    \"\"\" compute expectation of prediction p(y=0| x; theta) over theta ~ q\"\"\"\n",
    "    mu_w, mu_b, z_w, z_b = eta\n",
    "    var_w = variance_parametrization(z_w)\n",
    "    var_b = variance_parametrization(z_b)\n",
    "    v_0 = pi ** 2 / 3\n",
    "    m = mu_w * x + mu_b\n",
    "    v = var_w * x**2 + var_b\n",
    "    a = m/np.sqrt(v/v_0 + 1)\n",
    "    py = 1 / (1 + np.exp(-a))\n",
    "    return py"
   ]
  },
  {
   "cell_type": "code",
   "execution_count": 141,
   "metadata": {},
   "outputs": [],
   "source": [
    "def kl_div(mu_1, mu_2, var_1, var_2):\n",
    "    \"\"\" KL divergence of two Gaussian variables \"\"\"\n",
    "    return 1/2*(log(var_2) - log(var_1) + (var_1 + (mu_1 - mu_2)**2)/var_2 - 1)"
   ]
  },
  {
   "cell_type": "code",
   "execution_count": null,
   "metadata": {},
   "outputs": [],
   "source": []
  },
  {
   "cell_type": "code",
   "execution_count": null,
   "metadata": {},
   "outputs": [],
   "source": []
  },
  {
   "cell_type": "code",
   "execution_count": 180,
   "metadata": {},
   "outputs": [],
   "source": [
    "x_sligtly_not_separable2 = x\n",
    "y_sligtly_not_separable2 = y"
   ]
  },
  {
   "cell_type": "code",
   "execution_count": 172,
   "metadata": {},
   "outputs": [],
   "source": [
    "x_sligtly_not_separable = x\n",
    "y_sligtly_not_separable = y"
   ]
  },
  {
   "cell_type": "code",
   "execution_count": 167,
   "metadata": {},
   "outputs": [],
   "source": [
    "x_separable = x\n",
    "y_separable = y"
   ]
  },
  {
   "cell_type": "code",
   "execution_count": 204,
   "metadata": {},
   "outputs": [],
   "source": [
    "x = x_separable\n",
    "y = y_separable"
   ]
  },
  {
   "cell_type": "code",
   "execution_count": 218,
   "metadata": {},
   "outputs": [
    {
     "data": {
      "image/png": "[encoded data removed]",
      "text/plain": [
       "<Figure size 432x288 with 1 Axes>"
      ]
     },
     "metadata": {},
     "output_type": "display_data"
    }
   ],
   "source": [
    "N = 8\n",
    "x, y, class_0, class_1 = create_dataset(N)\n",
    "\n",
    "plt.plot(class_0, len(class_0)*[0.5], \"o\")\n",
    "plt.plot(class_1, len(class_1)*[0.5], \"x\")\n",
    "plt.show()"
   ]
  },
  {
   "cell_type": "code",
   "execution_count": 219,
   "metadata": {},
   "outputs": [
    {
     "data": {
      "image/png": "[encoded data removed]",
      "text/plain": [
       "<Figure size 432x288 with 1 Axes>"
      ]
     },
     "metadata": {},
     "output_type": "display_data"
    },
    {
     "name": "stdout",
     "output_type": "stream",
     "text": [
      "0.0\n"
     ]
    }
   ],
   "source": [
    "opt_theta = optimize_theta(x, y)\n",
    "x_pred = np.linspace(-5, 5, 100)\n",
    "y_pred_prob = prediction(x_pred, opt_theta)\n",
    "\n",
    "plt.plot(class_0, len(class_0)*[0.5], \"o\")\n",
    "plt.plot(class_1, len(class_1)*[0.5], \"x\")\n",
    "plt.plot(x_pred, y_pred_prob)\n",
    "#plt.fill(y)\n",
    "plt.show()\n",
    "\n",
    "y_pred = prediction(x, opt_theta)\n",
    "print(error_rate(prob_to_label(y_pred), y))"
   ]
  },
  {
   "cell_type": "code",
   "execution_count": 220,
   "metadata": {},
   "outputs": [
    {
     "name": "stderr",
     "output_type": "stream",
     "text": [
      "c:\\users\\kzorina\\appdata\\local\\programs\\python\\python36-32\\lib\\site-packages\\ipykernel_launcher.py:4: RuntimeWarning: divide by zero encountered in log\n",
      "  after removing the cwd from sys.path.\n"
     ]
    },
    {
     "data": {
      "image/png": "[encoded data removed]",
      "text/plain": [
       "<Figure size 432x288 with 1 Axes>"
      ]
     },
     "metadata": {},
     "output_type": "display_data"
    },
    {
     "name": "stdout",
     "output_type": "stream",
     "text": [
      "0.5\n"
     ]
    }
   ],
   "source": [
    "opt_eta = optimize_eta(x, y)\n",
    "x_pred = np.linspace(-5, 5, 100)\n",
    "y_pred_prob = expected_prediction(x_pred, opt_eta)\n",
    "\n",
    "plt.plot(class_0, len(class_0)*[0.5], \"o\")\n",
    "plt.plot(class_1, len(class_1)*[0.5], \"x\")\n",
    "plt.plot(x_pred, y_pred_prob)\n",
    "#plt.fill(y)\n",
    "plt.show()\n",
    "\n",
    "y_pred = expected_prediction(x, opt_eta)\n",
    "print(error_rate(prob_to_label(y_pred), y))"
   ]
  },
  {
   "cell_type": "code",
   "execution_count": 223,
   "metadata": {},
   "outputs": [
    {
     "name": "stdout",
     "output_type": "stream",
     "text": [
      "Failed to opt theta ^()\n"
     ]
    },
    {
     "name": "stderr",
     "output_type": "stream",
     "text": [
      "c:\\users\\kzorina\\appdata\\local\\programs\\python\\python36-32\\lib\\site-packages\\ipykernel_launcher.py:4: RuntimeWarning: divide by zero encountered in log\n",
      "  after removing the cwd from sys.path.\n"
     ]
    },
    {
     "name": "stdout",
     "output_type": "stream",
     "text": [
      "Failed to opt theta ^()\n",
      "Failed to opt theta ^()\n"
     ]
    },
    {
     "ename": "OverflowError",
     "evalue": "math range error",
     "output_type": "error",
     "traceback": [
      "\u001b[1;31m---------------------------------------------------------------------------\u001b[0m",
      "\u001b[1;31mOverflowError\u001b[0m                             Traceback (most recent call last)",
      "\u001b[1;32m<ipython-input-223-470457cad118>\u001b[0m in \u001b[0;36m<module>\u001b[1;34m()\u001b[0m\n\u001b[0;32m     16\u001b[0m     \u001b[0mx_test\u001b[0m\u001b[1;33m,\u001b[0m \u001b[0my_test\u001b[0m\u001b[1;33m,\u001b[0m \u001b[0mclass_0\u001b[0m\u001b[1;33m,\u001b[0m \u001b[0mclass_1\u001b[0m \u001b[1;33m=\u001b[0m \u001b[0mcreate_dataset\u001b[0m\u001b[1;33m(\u001b[0m\u001b[0mN_test\u001b[0m\u001b[1;33m)\u001b[0m\u001b[1;33m\u001b[0m\u001b[0m\n\u001b[0;32m     17\u001b[0m \u001b[1;33m\u001b[0m\u001b[0m\n\u001b[1;32m---> 18\u001b[1;33m     \u001b[0my_pred_method1\u001b[0m \u001b[1;33m=\u001b[0m \u001b[0mprediction\u001b[0m\u001b[1;33m(\u001b[0m\u001b[0mx_test\u001b[0m\u001b[1;33m,\u001b[0m \u001b[0mopt_theta\u001b[0m\u001b[1;33m)\u001b[0m\u001b[1;33m\u001b[0m\u001b[0m\n\u001b[0m\u001b[0;32m     19\u001b[0m     \u001b[0my_pred_method2\u001b[0m \u001b[1;33m=\u001b[0m \u001b[0mexpected_prediction\u001b[0m\u001b[1;33m(\u001b[0m\u001b[0mx_test\u001b[0m\u001b[1;33m,\u001b[0m \u001b[0mopt_eta\u001b[0m\u001b[1;33m)\u001b[0m\u001b[1;33m\u001b[0m\u001b[0m\n\u001b[0;32m     20\u001b[0m \u001b[1;33m\u001b[0m\u001b[0m\n",
      "\u001b[1;32m<ipython-input-132-1dd241fef576>\u001b[0m in \u001b[0;36mprediction\u001b[1;34m(x, theta)\u001b[0m\n\u001b[0;32m      3\u001b[0m     \u001b[0mw\u001b[0m \u001b[1;33m=\u001b[0m \u001b[0mtheta\u001b[0m\u001b[1;33m[\u001b[0m\u001b[1;36m0\u001b[0m\u001b[1;33m]\u001b[0m\u001b[1;33m\u001b[0m\u001b[0m\n\u001b[0;32m      4\u001b[0m     \u001b[0mb\u001b[0m \u001b[1;33m=\u001b[0m \u001b[0mtheta\u001b[0m\u001b[1;33m[\u001b[0m\u001b[1;36m1\u001b[0m\u001b[1;33m]\u001b[0m\u001b[1;33m\u001b[0m\u001b[0m\n\u001b[1;32m----> 5\u001b[1;33m     \u001b[1;32mreturn\u001b[0m  \u001b[0mnp\u001b[0m\u001b[1;33m.\u001b[0m\u001b[0marray\u001b[0m\u001b[1;33m(\u001b[0m\u001b[1;33m[\u001b[0m\u001b[1;36m1\u001b[0m\u001b[1;33m/\u001b[0m\u001b[1;33m(\u001b[0m\u001b[1;36m1\u001b[0m \u001b[1;33m+\u001b[0m \u001b[0mexp\u001b[0m\u001b[1;33m(\u001b[0m\u001b[1;33m-\u001b[0m\u001b[1;33m(\u001b[0m\u001b[0mw\u001b[0m\u001b[1;33m*\u001b[0m\u001b[0mxi\u001b[0m \u001b[1;33m+\u001b[0m \u001b[0mb\u001b[0m\u001b[1;33m)\u001b[0m\u001b[1;33m)\u001b[0m\u001b[1;33m)\u001b[0m \u001b[1;32mfor\u001b[0m \u001b[0mxi\u001b[0m \u001b[1;32min\u001b[0m \u001b[0mx\u001b[0m\u001b[1;33m]\u001b[0m\u001b[1;33m)\u001b[0m\u001b[1;33m\u001b[0m\u001b[0m\n\u001b[0m",
      "\u001b[1;32m<ipython-input-132-1dd241fef576>\u001b[0m in \u001b[0;36m<listcomp>\u001b[1;34m(.0)\u001b[0m\n\u001b[0;32m      3\u001b[0m     \u001b[0mw\u001b[0m \u001b[1;33m=\u001b[0m \u001b[0mtheta\u001b[0m\u001b[1;33m[\u001b[0m\u001b[1;36m0\u001b[0m\u001b[1;33m]\u001b[0m\u001b[1;33m\u001b[0m\u001b[0m\n\u001b[0;32m      4\u001b[0m     \u001b[0mb\u001b[0m \u001b[1;33m=\u001b[0m \u001b[0mtheta\u001b[0m\u001b[1;33m[\u001b[0m\u001b[1;36m1\u001b[0m\u001b[1;33m]\u001b[0m\u001b[1;33m\u001b[0m\u001b[0m\n\u001b[1;32m----> 5\u001b[1;33m     \u001b[1;32mreturn\u001b[0m  \u001b[0mnp\u001b[0m\u001b[1;33m.\u001b[0m\u001b[0marray\u001b[0m\u001b[1;33m(\u001b[0m\u001b[1;33m[\u001b[0m\u001b[1;36m1\u001b[0m\u001b[1;33m/\u001b[0m\u001b[1;33m(\u001b[0m\u001b[1;36m1\u001b[0m \u001b[1;33m+\u001b[0m \u001b[0mexp\u001b[0m\u001b[1;33m(\u001b[0m\u001b[1;33m-\u001b[0m\u001b[1;33m(\u001b[0m\u001b[0mw\u001b[0m\u001b[1;33m*\u001b[0m\u001b[0mxi\u001b[0m \u001b[1;33m+\u001b[0m \u001b[0mb\u001b[0m\u001b[1;33m)\u001b[0m\u001b[1;33m)\u001b[0m\u001b[1;33m)\u001b[0m \u001b[1;32mfor\u001b[0m \u001b[0mxi\u001b[0m \u001b[1;32min\u001b[0m \u001b[0mx\u001b[0m\u001b[1;33m]\u001b[0m\u001b[1;33m)\u001b[0m\u001b[1;33m\u001b[0m\u001b[0m\n\u001b[0m",
      "\u001b[1;31mOverflowError\u001b[0m: math range error"
     ]
    }
   ],
   "source": [
    "rounds = 100\n",
    "N = 8\n",
    "N_test = 1000\n",
    "\n",
    "method1_errors = []\n",
    "method2_errors = []\n",
    "for trial in range(rounds):\n",
    "    \n",
    "    x, y, class_0, class_1 = create_dataset(N)\n",
    "    try:\n",
    "        opt_theta = optimize_theta(x, y)\n",
    "    except:\n",
    "        print(\"Failed to opt theta ^()\")\n",
    "    opt_eta = optimize_eta(x, y)\n",
    "    \n",
    "    x_test, y_test, class_0, class_1 = create_dataset(N_test)\n",
    "    \n",
    "    y_pred_method1 = prediction(x_test, opt_theta)\n",
    "    y_pred_method2 = expected_prediction(x_test, opt_eta)\n",
    "    \n",
    "    method1_errors.append(error_rate(prob_to_label(y_pred_method1), y_test))\n",
    "    method2_errors.append(error_rate(prob_to_label(y_pred_method2), y_test))"
   ]
  },
  {
   "cell_type": "code",
   "execution_count": null,
   "metadata": {},
   "outputs": [],
   "source": []
  }
 ],
 "metadata": {
  "kernelspec": {
   "display_name": "Python 3",
   "language": "python",
   "name": "python3"
  },
  "language_info": {
   "codemirror_mode": {
    "name": "ipython",
    "version": 3
   },
   "file_extension": ".py",
   "mimetype": "text/x-python",
   "name": "python",
   "nbconvert_exporter": "python",
   "pygments_lexer": "ipython3",
   "version": "3.6.4"
  }
 },
 "nbformat": 4,
 "nbformat_minor": 2
}

{
 "cells": [
  {
   "cell_type": "markdown",
   "metadata": {},
   "source": [
    "The task will be to try the variational Bayesian Learning on a small test problem.\n",
    "\n",
    "• Measurements: x 2 R\n",
    "\n",
    "• Class y 2 {0, 1}\n",
    "\n",
    "• Model: p(y | x)=1/(1 + exp((wx + b))) – logistic model with 1D input\n",
    "\n",
    "• Parameters: theta = (w, b)"
   ]
  },
  {
   "cell_type": "code",
   "execution_count": 339,
   "metadata": {},
   "outputs": [],
   "source": [
    "import numpy as np\n",
    "from math import exp, log, pi\n",
    "from scipy.optimize import minimize\n",
    "import matplotlib.pyplot as plt"
   ]
  },
  {
   "cell_type": "code",
   "execution_count": 340,
   "metadata": {},
   "outputs": [],
   "source": [
    "def prediction(x, theta):\n",
    "    \"\"\" model posterior probability p(y=0 | x; theta) \"\"\"\n",
    "    x_to_work = np.zeros((len(x),2))\n",
    "    x_to_work[:,0] = x\n",
    "    x_to_work[:,1] = 1\n",
    "    result = np.zeros(len(x))\n",
    "    result = 1/(1 + np.exp(-(x_to_work.dot(theta))))\n",
    "    return  result\n"
   ]
  },
  {
   "cell_type": "code",
   "execution_count": 341,
   "metadata": {},
   "outputs": [],
   "source": [
    "def log_likelihood(py, y):\n",
    "    \"\"\" log likelihood of a given prediction at ground truth y\"\"\"\n",
    "    r = np.log(py[y == 0]).sum()\n",
    "    r += np.log(1 - py[y == 1]).sum()\n",
    "    return r "
   ]
  },
  {
   "cell_type": "code",
   "execution_count": 342,
   "metadata": {},
   "outputs": [],
   "source": [
    "def error_rate(y_pred, y_true):\n",
    "    return round(np.sum(y_pred != y_true)/ len(y_pred) , 4)"
   ]
  },
  {
   "cell_type": "code",
   "execution_count": 343,
   "metadata": {},
   "outputs": [],
   "source": [
    "def prob_to_label(y_pred):\n",
    "    return [(yi < 0.5) for yi in y_pred]"
   ]
  },
  {
   "cell_type": "code",
   "execution_count": 344,
   "metadata": {},
   "outputs": [],
   "source": [
    "def create_dataset(N):\n",
    "    mean_0_class = -2\n",
    "    mean_1_class = 2\n",
    "    sigma_0_class = 1\n",
    "    sigma_1_class = 2\n",
    "\n",
    "    class_0 = np.random.normal(mean_0_class, sigma_0_class, int(N/2))\n",
    "    class_1 = np.random.normal(mean_1_class, sigma_1_class, N - int(N/2))\n",
    "\n",
    "    x = np.concatenate([class_0, class_1])\n",
    "    y = np.array([0]*int(N/2) + [1]*( N - int(N/2)))\n",
    "    \n",
    "    return x, y, class_0, class_1 \n",
    "    "
   ]
  },
  {
   "cell_type": "code",
   "execution_count": 345,
   "metadata": {},
   "outputs": [],
   "source": [
    "def optimize_theta(x, y):\n",
    "   \n",
    "    nll = lambda theta: -log_likelihood(prediction(x, theta), y)\n",
    "    theta0 = np.ones([2])\n",
    "    o = minimize(nll, theta0, method='Nelder-Mead') \n",
    "    \n",
    "    opt_theta = o.x\n",
    "    return opt_theta"
   ]
  },
  {
   "cell_type": "code",
   "execution_count": 364,
   "metadata": {},
   "outputs": [],
   "source": [
    "def optimize_eta(x, y):\n",
    "    w_prior_mu = 0\n",
    "    w_prior_var = 10**2\n",
    "    b_prior_mu = 0\n",
    "    b_prior_var = 10**3\n",
    "    x = np.array(x)\n",
    "    vb = lambda eta: -log_likelihood(expected_prediction(x, eta), y) +  \\\n",
    "                    kl_div(w_prior_mu, eta[0], w_prior_var, variance_parametrization(eta[2])) + \\\n",
    "                    kl_div(b_prior_mu, eta[1], b_prior_var, variance_parametrization(eta[3]))\n",
    "    eta0 = np.ones([4])\n",
    "    o = minimize(vb, eta0, method='Nelder-Mead') \n",
    "    \n",
    "    opt_eta = o.x\n",
    "    return opt_eta"
   ]
  },
  {
   "cell_type": "code",
   "execution_count": 347,
   "metadata": {},
   "outputs": [],
   "source": [
    "def variance_parametrization(z):\n",
    "    if z < 0:\n",
    "        return exp(z)\n",
    "    else:\n",
    "        return z + 1"
   ]
  },
  {
   "cell_type": "code",
   "execution_count": 348,
   "metadata": {},
   "outputs": [],
   "source": [
    "def expected_prediction(x: np.array, eta) -> np.array:\n",
    "    \"\"\" compute expectation of prediction p(y=0| x; theta) over theta ~ q\"\"\"\n",
    "    mu_w, mu_b, z_w, z_b = eta\n",
    "    var_w = variance_parametrization(z_w)\n",
    "    var_b = variance_parametrization(z_b)\n",
    "    v_0 = pi ** 2 / 3\n",
    "    m = mu_w * x + mu_b\n",
    "    v = var_w * x**2 + var_b\n",
    "    a = m/np.sqrt(v/v_0 + 1)\n",
    "    py = 1 / (1 + np.exp(-a))\n",
    "    return py"
   ]
  },
  {
   "cell_type": "code",
   "execution_count": 349,
   "metadata": {},
   "outputs": [],
   "source": [
    "def kl_div(mu_1, mu_2, var_1, var_2):\n",
    "    \"\"\" KL divergence of two Gaussian variables \"\"\"\n",
    "    return 1/2*(log(var_2) - log(var_1) + (var_1 + (mu_1 - mu_2)**2)/var_2 - 1)"
   ]
  },
  {
   "cell_type": "markdown",
   "metadata": {},
   "source": []
  },
  {
   "cell_type": "markdown",
   "metadata": {},
   "source": [
    "### Separable data"
   ]
  },
  {
   "cell_type": "code",
   "execution_count": 318,
   "metadata": {},
   "outputs": [
    {
     "data": {
      "image/png": "[encoded data removed]",
      "text/plain": [
       "<Figure size 432x288 with 1 Axes>"
      ]
     },
     "metadata": {},
     "output_type": "display_data"
    },
    {
     "data": {
      "image/png": "[encoded data removed]",
      "text/plain": [
       "<Figure size 432x288 with 1 Axes>"
      ]
     },
     "metadata": {},
     "output_type": "display_data"
    },
    {
     "name": "stdout",
     "output_type": "stream",
     "text": [
      "Error rate = 0.0 for method 1\n"
     ]
    },
    {
     "data": {
      "image/png": "[encoded data removed]",
      "text/plain": [
       "<Figure size 432x288 with 1 Axes>"
      ]
     },
     "metadata": {},
     "output_type": "display_data"
    },
    {
     "name": "stdout",
     "output_type": "stream",
     "text": [
      "Error rate = 0.0 for method 2\n"
     ]
    }
   ],
   "source": [
    "N = 8\n",
    "x, y, class_0, class_1 = create_dataset(N)\n",
    "\n",
    "plt.plot(class_0, len(class_0)*[0.5], \"o\")\n",
    "plt.plot(class_1, len(class_1)*[0.5], \"x\")\n",
    "plt.title(\"X distribution, blue - class 0, orange - class 1\")\n",
    "plt.show()\n",
    "\n",
    "\n",
    "opt_theta = optimize_theta(x, y)\n",
    "x_pred = np.linspace(-5, 5, 100)\n",
    "y_pred_prob = prediction(x_pred, opt_theta)\n",
    "\n",
    "plt.plot(class_0, len(class_0)*[0.5], \"o\")\n",
    "plt.plot(class_1, len(class_1)*[0.5], \"x\")\n",
    "plt.plot(x_pred, y_pred_prob)\n",
    "plt.title(\"Method 1: Model prediction for x in [-5, 5]\")\n",
    "plt.show()\n",
    "\n",
    "y_pred = prediction(x, opt_theta)\n",
    "print(\"Error rate = {} for method 1\".format(error_rate(prob_to_label(y_pred), y)))\n",
    "\n",
    "opt_eta = optimize_eta(x, y)\n",
    "x_pred = np.linspace(-5, 5, 100)\n",
    "y_pred_prob = expected_prediction(x_pred, opt_eta)\n",
    "\n",
    "plt.plot(class_0, len(class_0)*[0.5], \"o\")\n",
    "plt.plot(class_1, len(class_1)*[0.5], \"x\")\n",
    "plt.plot(x_pred, y_pred_prob)\n",
    "plt.title(\"Method 2: Model prediction for x in [-5, 5]\")\n",
    "plt.show()\n",
    "\n",
    "y_pred = expected_prediction(x, opt_eta)\n",
    "print(\"Error rate = {} for method 2\".format(error_rate(prob_to_label(y_pred), y)))"
   ]
  },
  {
   "cell_type": "markdown",
   "metadata": {},
   "source": [
    "### Non-separable data"
   ]
  },
  {
   "cell_type": "code",
   "execution_count": 337,
   "metadata": {},
   "outputs": [
    {
     "data": {
      "image/png": "[encoded data removed]",
      "text/plain": [
       "<Figure size 432x288 with 1 Axes>"
      ]
     },
     "metadata": {},
     "output_type": "display_data"
    },
    {
     "data": {
      "image/png": "[encoded data removed]",
      "text/plain": [
       "<Figure size 432x288 with 1 Axes>"
      ]
     },
     "metadata": {},
     "output_type": "display_data"
    },
    {
     "name": "stdout",
     "output_type": "stream",
     "text": [
      "Error rate = 0.25 for method 1\n"
     ]
    },
    {
     "data": {
      "image/png": "[encoded data removed]",
      "text/plain": [
       "<Figure size 432x288 with 1 Axes>"
      ]
     },
     "metadata": {},
     "output_type": "display_data"
    },
    {
     "name": "stdout",
     "output_type": "stream",
     "text": [
      "Error rate = 0.125 for method 2\n"
     ]
    }
   ],
   "source": [
    "N = 8\n",
    "x, y, class_0, class_1 = create_dataset(N)\n",
    "\n",
    "plt.plot(class_0, len(class_0)*[0.5], \"o\")\n",
    "plt.plot(class_1, len(class_1)*[0.5], \"x\")\n",
    "plt.title(\"X distribution, blue - class 0, orange - class 1\")\n",
    "plt.show()\n",
    "\n",
    "\n",
    "opt_theta = optimize_theta(x, y)\n",
    "x_pred = np.linspace(-5, 5, 100)\n",
    "y_pred_prob = prediction(x_pred, opt_theta)\n",
    "\n",
    "plt.plot(class_0, len(class_0)*[0.5], \"o\")\n",
    "plt.plot(class_1, len(class_1)*[0.5], \"x\")\n",
    "plt.plot(x_pred, y_pred_prob)\n",
    "plt.title(\"Method 1: Model prediction for x in [-5, 5]\")\n",
    "plt.show()\n",
    "\n",
    "y_pred = prediction(x, opt_theta)\n",
    "print(\"Error rate = {} for method 1\".format(error_rate(prob_to_label(y_pred), y)))\n",
    "\n",
    "opt_eta = optimize_eta(x, y)\n",
    "x_pred = np.linspace(-5, 5, 100)\n",
    "y_pred_prob = expected_prediction(x_pred, opt_eta)\n",
    "\n",
    "plt.plot(class_0, len(class_0)*[0.5], \"o\")\n",
    "plt.plot(class_1, len(class_1)*[0.5], \"x\")\n",
    "plt.plot(x_pred, y_pred_prob)\n",
    "plt.title(\"Method 2: Model prediction for x in [-5, 5]\")\n",
    "plt.show()\n",
    "\n",
    "y_pred = expected_prediction(x, opt_eta)\n",
    "print(\"Error rate = {} for method 2\".format(error_rate(prob_to_label(y_pred), y)))"
   ]
  },
  {
   "cell_type": "code",
   "execution_count": null,
   "metadata": {},
   "outputs": [],
   "source": []
  },
  {
   "cell_type": "code",
   "execution_count": 355,
   "metadata": {},
   "outputs": [],
   "source": [
    "def run_trials(N, N_test, rounds):\n",
    "\n",
    "    method1_errors = []\n",
    "    method2_errors = []\n",
    "    for trial in range(rounds):\n",
    "\n",
    "        x, y, class_0, class_1 = create_dataset(N)\n",
    "        try:\n",
    "            opt_theta = optimize_theta(x, y)\n",
    "        except:\n",
    "            print(\"Failed to opt theta ^()\")\n",
    "        opt_eta = optimize_eta(x, y)\n",
    "\n",
    "        x_test, y_test, class_0, class_1 = create_dataset(N_test)\n",
    "\n",
    "        y_pred_method1 = prediction(x_test, opt_theta)\n",
    "        y_pred_method2 = expected_prediction(x_test, opt_eta)\n",
    "\n",
    "        method1_errors.append(error_rate(prob_to_label(y_pred_method1), y_test))\n",
    "        method2_errors.append(error_rate(prob_to_label(y_pred_method2), y_test))\n",
    "    return np.mean(method1_errors), np.mean(method2_errors)"
   ]
  },
  {
   "cell_type": "code",
   "execution_count": 362,
   "metadata": {},
   "outputs": [
    {
     "name": "stderr",
     "output_type": "stream",
     "text": [
      "c:\\users\\kzorina\\appdata\\local\\programs\\python\\python36-32\\lib\\site-packages\\ipykernel_launcher.py:7: RuntimeWarning: overflow encountered in exp\n",
      "  import sys\n",
      "c:\\users\\kzorina\\appdata\\local\\programs\\python\\python36-32\\lib\\site-packages\\ipykernel_launcher.py:3: RuntimeWarning: overflow encountered in double_scalars\n",
      "  This is separate from the ipykernel package so we can avoid doing imports until\n"
     ]
    },
    {
     "name": "stdout",
     "output_type": "stream",
     "text": [
      "For N = 8, test accuracy = 0.11022000000000003 for 1 method and 0.09436999999999998 for 2 method\n"
     ]
    }
   ],
   "source": [
    "rounds = 100\n",
    "N = 8\n",
    "N_test = 1000\n",
    "\n",
    "method1_acc, method2_acc =  run_trials(N, N_test, rounds)\n",
    "print(\"For N = {}, test accuracy = {} for 1 method and {} for 2 method\".format(N, method1_acc, method2_acc))"
   ]
  },
  {
   "cell_type": "code",
   "execution_count": 374,
   "metadata": {},
   "outputs": [
    {
     "name": "stderr",
     "output_type": "stream",
     "text": [
      "c:\\users\\kzorina\\appdata\\local\\programs\\python\\python36-32\\lib\\site-packages\\ipykernel_launcher.py:7: RuntimeWarning: overflow encountered in exp\n",
      "  import sys\n"
     ]
    },
    {
     "name": "stdout",
     "output_type": "stream",
     "text": [
      "For N = 20, test accuracy = 0.09774000000000001 for 1 method and 0.08744 for 2 method\n"
     ]
    }
   ],
   "source": [
    "rounds = 100\n",
    "N = 20\n",
    "N_test = 1000\n",
    "\n",
    "method1_acc, method2_acc =  run_trials(N, N_test, rounds)\n",
    "print(\"For N = {}, test accuracy = {} for 1 method and {} for 2 method\".format(N, method1_acc, method2_acc))"
   ]
  },
  {
   "cell_type": "code",
   "execution_count": 375,
   "metadata": {},
   "outputs": [
    {
     "name": "stdout",
     "output_type": "stream",
     "text": [
      "For N = 1000, test accuracy = 0.0859 for 1 method and 0.08528999999999998 for 2 method\n"
     ]
    }
   ],
   "source": [
    "rounds = 100\n",
    "N = 1000\n",
    "N_test = 1000\n",
    "\n",
    "method1_acc, method2_acc =  run_trials(N, N_test, rounds)\n",
    "print(\"For N = {}, test accuracy = {} for 1 method and {} for 2 method\".format(N, method1_acc, method2_acc))"
   ]
  },
  {
   "cell_type": "markdown",
   "metadata": {},
   "source": [
    "#### Observations and conclusions\n",
    "\n",
    "Method 2 is more flexible, it performs better when we have non-separable classes and not very large amount of points and some point classes are overlaping in the middle.\n",
    "\n",
    "It is expectable that method 2 performs better in this case as it has more freedom."
   ]
  },
  {
   "cell_type": "markdown",
   "metadata": {},
   "source": [
    "###### Time spent:\n",
    "Understand task \\ lecture malerial refresh - 1 h 30 mins\n",
    "\n",
    "Additional reading - 30 mins\n",
    "\n",
    "Coding \\ debuging + report - 5 h"
   ]
  }
 ],
 "metadata": {
  "kernelspec": {
   "display_name": "Python 3",
   "language": "python",
   "name": "python3"
  },
  "language_info": {
   "codemirror_mode": {
    "name": "ipython",
    "version": 3
   },
   "file_extension": ".py",
   "mimetype": "text/x-python",
   "name": "python",
   "nbconvert_exporter": "python",
   "pygments_lexer": "ipython3",
   "version": "3.6.4"
  }
 },
 "nbformat": 4,
 "nbformat_minor": 2
}
